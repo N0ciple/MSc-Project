{
 "cells": [
  {
   "cell_type": "code",
   "execution_count": null,
   "metadata": {},
   "outputs": [],
   "source": [
    "from simulation import *\n",
    "from matplotlib import pyplot as plt\n",
    "%matplotlib inline\n",
    "plt.figure(figsize=(6,6))"
   ]
  },
  {
   "cell_type": "code",
   "execution_count": null,
   "metadata": {
    "collapsed": true
   },
   "outputs": [],
   "source": [
    "def findSet2(myG,myCenterNode,myMaxDeg):\n",
    "    curSet = set()\n",
    "    curDeg = myMaxDeg\n",
    "    while(curDeg>0):\n",
    "        tempoSet = set(findNeighDegN(myG,myCenterNode,curDeg))\n",
    "        curSet = curSet.union(tempoSet)\n",
    "        curDeg -= 1\n",
    "    return curSet"
   ]
  },
  {
   "cell_type": "code",
   "execution_count": 20,
   "metadata": {},
   "outputs": [
    {
     "name": "stdout",
     "output_type": "stream",
     "text": [
      "Generating mGraph\n",
      "----- DONE\n",
      "Getting layout\n",
      "----- DONE\n",
      "Setting default attributes\n",
      "----- DONE\n",
      "Choosing the source\n",
      "----- DONE\n",
      "Choosing the monitoring nodes\n",
      "----- DONE\n",
      "Mlist :  [52, 5, 52, 11, 37, 27, 73, 44, 97, 48] \n",
      "Slist :  [24]\n"
     ]
    },
    {
     "data": {
      "text/plain": [
       "<IPython.core.display.Javascript object>"
      ]
     },
     "execution_count": 0,
     "metadata": {},
     "output_type": "execute_result"
    },
    {
     "data": {
      "text/html": [
       "<div id='b36394a9-595f-4701-afb4-740b99f2b0c6'></div>"
      ],
      "text/plain": [
       "<div id='b36394a9-595f-4701-afb4-740b99f2b0c6'></div>"
      ]
     },
     "execution_count": 0,
     "metadata": {},
     "output_type": "execute_result"
    },
    {
     "name": "stdout",
     "output_type": "stream",
     "text": [
      "BITE1\n",
      "Starting infection\n",
      "BITE1\n",
      "BITE1\n",
      "BITE1\n",
      "BITE1\n",
      "BITE1\n",
      "BITE1\n",
      "BITE1\n",
      "BITE1\n",
      "BITE1\n",
      "BITE1\n"
     ]
    },
    {
     "data": {
      "text/plain": [
       "<IPython.core.display.Javascript object>"
      ]
     },
     "execution_count": 0,
     "metadata": {},
     "output_type": "execute_result"
    },
    {
     "data": {
      "text/html": [
       "<div id='412a2339-59c5-4b0a-a33d-32884172b5f7'></div>"
      ],
      "text/plain": [
       "<div id='412a2339-59c5-4b0a-a33d-32884172b5f7'></div>"
      ]
     },
     "execution_count": 0,
     "metadata": {},
     "output_type": "execute_result"
    }
   ],
   "source": [
    "figureList = list()\n",
    "# Parameters definition\n",
    "numRumors = 3\n",
    "maxThreshold = 1\n",
    "numMonitors = 10\n",
    "propagProba = 0.5\n",
    "numNodes = 100\n",
    "linkProba = 0.2\n",
    "monitorTrigger = list()\n",
    "numStep = 100\n",
    "\n",
    "\n",
    "\n",
    "Graph, Pos, rumorSources, monitorsList = generateGraphReady(numNodes,linkProba,maxThreshold,numRumors,numMonitors)\n",
    "\n",
    "fig1 =  drawColoredGraph(Graph, Pos, numRumors, rumorSources, monitorsList)\n",
    "\n",
    "\n",
    "print(\"Starting infection\")\n",
    "infections = [[] for n in range(numRumors)]\n",
    "\n",
    "infected = getInfectedList(Graph,numRumors)\n",
    "\n",
    "j=0\n",
    "\n",
    "while(len(infected)< len(Graph.nodes())):\n",
    "\n",
    "    Graph = infectionForward(Graph, propagProba, numRumors)\n",
    "    infected = getInfectedList(Graph,numRumors)\n",
    "\n",
    "    # j+1 because j=0 is step 1\n",
    "    monitorTrigger = updateMonitorTrig(j+1,monitorTrigger,monitorsList,Graph,numRumors)\n",
    "    j += 1\n",
    "    fig2 = drawColoredGraph(Graph, Pos, numRumors, rumorSources, monitorsList)"
   ]
  },
  {
   "cell_type": "code",
   "execution_count": 5,
   "metadata": {
    "collapsed": true
   },
   "outputs": [
    {
     "name": "stdout",
     "output_type": "stream",
     "text": [
      "Real Source =  67\n",
      "No sources identified\n",
      "\n",
      "Monitoring Nodes :\n",
      "Monitoring node number :  7 \n",
      "\tinfected by rumor :  1 \tat step :  7\n",
      "\tinfected by rumor :  2 \tat step :  8\n",
      "\tinfected by rumor :  3 \tat step :  8\n",
      "Monitoring node number :  9 \n",
      "\tinfected by rumor :  1 \tat step :  6\n",
      "\tinfected by rumor :  2 \tat step :  7\n",
      "\tinfected by rumor :  3 \tat step :  9\n",
      "Monitoring node number :  17 \n",
      "\tinfected by rumor :  1 \tat step :  8\n",
      "\tinfected by rumor :  2 \tat step :  3\n",
      "\tinfected by rumor :  3 \tat step :  6\n",
      "Monitoring node number :  36 \n",
      "\tinfected by rumor :  1 \tat step :  8\n",
      "\tinfected by rumor :  2 \tat step :  7\n",
      "\tinfected by rumor :  3 \tat step :  8\n",
      "Monitoring node number :  58 \n",
      "\tinfected by rumor :  1 \tat step :  8\n",
      "\tinfected by rumor :  2 \tat step :  7\n",
      "\tinfected by rumor :  3 \tat step :  8\n",
      "Monitoring node number :  62 \n",
      "\tinfected by rumor :  1 \tat step :  5\n",
      "\tinfected by rumor :  2 \tat step :  4\n",
      "\tinfected by rumor :  3 \tat step :  6\n",
      "Monitoring node number :  63 \n",
      "\tinfected by rumor :  1 \tat step :  3\n",
      "\tinfected by rumor :  2 \tat step :  4\n",
      "\tinfected by rumor :  3 \tat step :  6\n",
      "Monitoring node number :  65 \n",
      "\tinfected by rumor :  1 \tat step :  1\n",
      "\tinfected by rumor :  2 \tat step :  1\n",
      "\tinfected by rumor :  3 \tat step :  4\n",
      "Monitoring node number :  67 \n",
      "\tinfected by rumor :  1 \tat step :  1\n",
      "\tinfected by rumor :  2 \tat step :  1\n",
      "\tinfected by rumor :  3 \tat step :  1\n",
      "Monitoring node number :  68 \n",
      "\tinfected by rumor :  1 \tat step :  2\n",
      "\tinfected by rumor :  2 \tat step :  3\n",
      "\tinfected by rumor :  3 \tat step :  3\n",
      "\n",
      "\n",
      "Different sets\n",
      "set()\n",
      "set()\n",
      "set()\n",
      "{24, 22}\n",
      "set()\n",
      "set()\n",
      "set()\n",
      "{64, 66, 67, 4, 37, 36, 9, 10, 43, 12, 13, 45, 46, 80, 50, 51, 85, 22, 57, 58}\n",
      "{98, 99, 72, 92, 93, 95}\n",
      "set()\n",
      "set()\n",
      "set()\n",
      "set()\n",
      "set()\n",
      "set()\n",
      "{3, 16, 19, 25, 26, 29, 32, 33, 34, 38, 39, 41, 44, 46, 48, 49, 55, 76, 77, 79, 80, 86, 88, 92, 93, 95, 98, 99}\n",
      "{0, 1, 4, 5, 6, 12, 13, 14, 17, 18, 27, 28, 35, 40, 43, 45, 50, 51, 52, 54, 74, 75, 81, 82, 84, 85, 94, 96, 97}\n",
      "{36, 37, 78, 47, 20, 21, 87, 23, 24, 89, 90, 91, 30, 31}\n",
      "{2, 67, 68, 9, 42, 74, 75, 15, 57, 58, 28}\n",
      "{0, 1, 4, 7, 8, 10, 11, 14, 17, 26, 27, 29, 35, 40, 43, 45, 53, 56, 76, 77, 83, 94}\n",
      "{33, 36, 37, 47, 80, 49, 48, 20, 21, 86, 55, 87, 89, 90, 91, 23, 22}\n",
      "{64, 66, 67, 15}\n",
      "{64, 66, 67, 15}\n",
      "{9, 10, 11, 20, 21, 29, 38, 39, 41, 44, 48, 49, 51, 52, 53, 55, 56, 58, 59, 72, 73, 83, 88, 92, 93, 95}\n",
      "{65, 66, 68, 69}\n",
      "{65, 66, 68, 69}\n",
      "{65, 66, 68, 69}\n",
      "{64, 65, 71, 72, 42, 92, 93, 95}\n",
      "{96, 97, 98, 40, 73, 74, 43, 15, 91, 62, 63}\n",
      "{96, 97, 98, 40, 73, 74, 43, 15, 91, 62, 63}\n"
     ]
    }
   ],
   "source": [
    "sets = list()\n",
    "for i in range(len(monitorTrigger)):\n",
    "    set1 =findSet(Graph,monitorTrigger[i][0],monitorTrigger[i][2])\n",
    "    sets.append(set(set1))\n",
    "    \n",
    "source = set.intersection(*sets)\n",
    "\n",
    "try:\n",
    "    print(\"Identified Source = \",list(source)[0],\"\\nReal Source = \",rumorSources[0])\n",
    "except:\n",
    "    print(\"Real Source = \",rumorSources[0])\n",
    "    print(\"No sources identified\")\n",
    "    printMonitorTrig(monitorTrigger)\n",
    "    print('\\n\\nDifferent sets')\n",
    "    print(*sets,sep='\\n')"
   ]
  },
  {
   "cell_type": "code",
   "execution_count": 12,
   "metadata": {},
   "outputs": [
    {
     "name": "stdout",
     "output_type": "stream",
     "text": [
      "{66}\n"
     ]
    },
    {
     "data": {
      "image/png": "[encoded data removed]",
      "text/plain": [
       "<matplotlib.figure.Figure at 0x10b715748>"
      ]
     },
     "metadata": {},
     "output_type": "display_data"
    }
   ],
   "source": [
    "from networkUtils import drawColoredGraph2\n",
    "\n",
    "setList = []\n",
    "for i in monitorTrigger:\n",
    "    nodeSet = findSet2(Graph,i[0],i[2])\n",
    "    setList.append(nodeSet)\n",
    "    \n",
    "finalSet = set.intersection(*setList)\n",
    "print(finalSet)\n",
    "finalList = list(finalSet)\n",
    "\n",
    "\n",
    "drawColoredGraph2(Graph,Pos,numRumors,rumorSources,monitorsList,finalList)"
   ]
  },
  {
   "cell_type": "code",
   "execution_count": null,
   "metadata": {
    "collapsed": true
   },
   "outputs": [],
   "source": []
  }
 ],
 "metadata": {
  "kernelspec": {
   "display_name": "Python 2",
   "language": "python",
   "name": "python2"
  },
  "language_info": {
   "codemirror_mode": {
    "name": "ipython",
    "version": 2
   },
   "file_extension": ".py",
   "mimetype": "text/x-python",
   "name": "python",
   "nbconvert_exporter": "python",
   "pygments_lexer": "ipython2",
   "version": "2.7.6"
  }
 },
 "nbformat": 4,
 "nbformat_minor": 1
}
