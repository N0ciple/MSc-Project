{
 "cells": [
  {
   "cell_type": "code",
   "execution_count": 203,
   "metadata": {
    "collapsed": true
   },
   "outputs": [],
   "source": [
    "import numpy as np\n",
    "from scipy.special import comb\n",
    "from random import random"
   ]
  },
  {
   "cell_type": "code",
   "execution_count": 213,
   "metadata": {},
   "outputs": [],
   "source": [
    "def calculProba(myPropagProba,myDist,mySteps):\n",
    "    p = myPropagProba\n",
    "    k = myDist\n",
    "    n = mySteps\n",
    "    result = 0\n",
    "    for i in range(0,n-k+1):\n",
    "        result += comb(k+i-1,i, exact=True) * pow(p,k) * pow(1-p,i)\n",
    "    return result\n",
    "\n",
    "def randomWalkSimulation(myPropagProba,myDist,mySteps):\n",
    "    p = myPropagProba\n",
    "    k = myDist\n",
    "    n = mySteps\n",
    "    cur_state = 0\n",
    "    for i in range(0,n):\n",
    "        if random() < p :\n",
    "            cur_state +=1\n",
    "    if cur_state >= k :\n",
    "        return True\n",
    "    else: \n",
    "        return False"
   ]
  },
  {
   "cell_type": "code",
   "execution_count": 214,
   "metadata": {},
   "outputs": [
    {
     "name": "stdout",
     "output_type": "stream",
     "text": [
      "0.27634453046999985\n"
     ]
    }
   ],
   "source": [
    "print(calculProba(0.3,5,12))"
   ]
  },
  {
   "cell_type": "code",
   "execution_count": 207,
   "metadata": {},
   "outputs": [
    {
     "name": "stdout",
     "output_type": "stream",
     "text": [
      "0.2764668\n"
     ]
    }
   ],
   "source": [
    "counter = 0\n",
    "num_sim = 10000000\n",
    "for i in range(0,num_sim):\n",
    "    if randomWalkSimulation(0.3,5,12):\n",
    "        counter += 1\n",
    "counter /= num_sim\n",
    "print(counter)"
   ]
  },
  {
   "cell_type": "code",
   "execution_count": null,
   "metadata": {},
   "outputs": [],
   "source": [
    ""
   ]
  }
 ],
 "metadata": {
  "kernelspec": {
   "display_name": "Python 2",
   "language": "python",
   "name": "python2"
  },
  "language_info": {
   "codemirror_mode": {
    "name": "ipython",
    "version": 2.0
   },
   "file_extension": ".py",
   "mimetype": "text/x-python",
   "name": "python",
   "nbconvert_exporter": "python",
   "pygments_lexer": "ipython2",
   "version": "2.7.6"
  }
 },
 "nbformat": 4,
 "nbformat_minor": 0
}