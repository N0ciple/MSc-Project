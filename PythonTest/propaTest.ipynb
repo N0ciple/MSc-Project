{
 "cells": [
  {
   "cell_type": "code",
   "execution_count": 21,
   "metadata": {
    "collapsed": true
   },
   "outputs": [],
   "source": [
    "import numpy as np\n",
    "from scipy.special import comb\n",
    "from random import random"
   ]
  },
  {
   "cell_type": "code",
   "execution_count": 191,
   "metadata": {},
   "outputs": [],
   "source": [
    "def calculProba(myPropagProba,myDist,mySteps):\n",
    "    p = myPropagProba\n",
    "    k = myDist\n",
    "    n = mySteps\n",
    "    result = 0\n",
    "    for i in range(0,n-k+1):\n",
    "        result += comb(k+i-1,i, exact=True) * pow(p,k) * pow(1-p,i)\n",
    "    return result\n",
    "\n",
    "def propaProd(myPropagP,myDist,myStep):\n",
    "    if myDist > myStep :\n",
    "        return 0\n",
    "    \n",
    "    proba = 1-myPropagP\n",
    "    Res = 1\n",
    "    exponent = myStep\n",
    "    for i in range(myStep-myDist+1,myStep+1):\n",
    "        Res *= (1 - pow(proba,exponent))\n",
    "        #print(\"1 - \",proba,\"^\",exponent)\n",
    "        exponent -= 1\n",
    "    return Res\n",
    "\n",
    "def randomWalkSimulation(myPropagProba,myDist,mySteps):\n",
    "    p = myPropagProba\n",
    "    k = myDist\n",
    "    n = mySteps\n",
    "    cur_state = 0\n",
    "    for i in range(0,n):\n",
    "        if random() < p :\n",
    "            cur_state +=1\n",
    "    if cur_state >= k :\n",
    "        return True\n",
    "    else: \n",
    "        return False"
   ]
  },
  {
   "cell_type": "code",
   "execution_count": 201,
   "metadata": {},
   "outputs": [
    {
     "name": "stdout",
     "output_type": "stream",
     "text": [
      "0.27634453046999985\n"
     ]
    }
   ],
   "source": [
    "print(calculProba(0.3,5,12))"
   ]
  },
  {
   "cell_type": "code",
   "execution_count": 196,
   "metadata": {},
   "outputs": [
    {
     "name": "stdout",
     "output_type": "stream",
     "text": [
      "0\n1\n"
     ]
    }
   ],
   "source": [
    "for i in range(0,2):\n",
    "    print(i)"
   ]
  },
  {
   "cell_type": "code",
   "execution_count": 202,
   "metadata": {},
   "outputs": [
    {
     "name": "stdout",
     "output_type": "stream",
     "text": [
      "0.2764256\n"
     ]
    }
   ],
   "source": [
    "counter = 0\n",
    "num_sim = 10000000\n",
    "for i in range(0,num_sim):\n",
    "    if randomWalkSimulation(0.3,5,12):\n",
    "        counter += 1\n",
    "counter /= num_sim\n",
    "print(counter)"
   ]
  },
  {
   "cell_type": "code",
   "execution_count": 185,
   "metadata": {},
   "outputs": [
    {
     "data": {
      "text/plain": [
       "0.14292684750480988"
      ]
     },
     "execution_count": 185,
     "metadata": {},
     "output_type": "execute_result"
    }
   ],
   "source": [
    "propaProd(0.2,4,6)"
   ]
  },
  {
   "cell_type": "code",
   "execution_count": 164,
   "metadata": {},
   "outputs": [
    {
     "ename": "TypeError",
     "evalue": "unsupported operand type(s) for ^: 'float' and 'int'",
     "traceback": [
      "\u001b[0;31m---------------------------------------------------------------------------\u001b[0m",
      "\u001b[0;31mTypeError\u001b[0m                                 Traceback (most recent call last)",
      "\u001b[0;32m<ipython-input-164-3232a0176cbc>\u001b[0m in \u001b[0;36m<module>\u001b[0;34m()\u001b[0m\n\u001b[0;32m----> 1\u001b[0;31m \u001b[0mpow\u001b[0m\u001b[0;34m(\u001b[0m\u001b[0;36m0.2\u001b[0m\u001b[0;34m,\u001b[0m\u001b[0;36m3\u001b[0m\u001b[0;34m)\u001b[0m\u001b[0;34m*\u001b[0m\u001b[0;34m(\u001b[0m\u001b[0;36m0.8\u001b[0m\u001b[0;34m)\u001b[0m\u001b[0;34m^\u001b[0m\u001b[0;36m2\u001b[0m\u001b[0;34m\u001b[0m\u001b[0m\n\u001b[0m",
      "\u001b[0;31mTypeError\u001b[0m: unsupported operand type(s) for ^: 'float' and 'int'"
     ],
     "output_type": "error"
    }
   ],
   "source": [
    "pow(0.2,3)*(0.8)^2"
   ]
  },
  {
   "cell_type": "code",
   "execution_count": 183,
   "metadata": {},
   "outputs": [
    {
     "data": {
      "text/plain": [
       "0.016960000000000006"
      ]
     },
     "execution_count": 183,
     "metadata": {},
     "output_type": "execute_result"
    }
   ],
   "source": [
    "pow(0.2,4) + 4 * pow(0.2,4) * 0.8 + 10 * pow(0.2,4) * pow(0.8,2)"
   ]
  },
  {
   "cell_type": "code",
   "execution_count": 200,
   "metadata": {},
   "outputs": [
    {
     "data": {
      "text/plain": [
       "3"
      ]
     },
     "execution_count": 200,
     "metadata": {},
     "output_type": "execute_result"
    }
   ],
   "source": [
    ""
   ]
  },
  {
   "cell_type": "code",
   "execution_count": null,
   "metadata": {},
   "outputs": [],
   "source": [
    ""
   ]
  }
 ],
 "metadata": {
  "kernelspec": {
   "display_name": "Python 2",
   "language": "python",
   "name": "python2"
  },
  "language_info": {
   "codemirror_mode": {
    "name": "ipython",
    "version": 2.0
   },
   "file_extension": ".py",
   "mimetype": "text/x-python",
   "name": "python",
   "nbconvert_exporter": "python",
   "pygments_lexer": "ipython2",
   "version": "2.7.6"
  }
 },
 "nbformat": 4,
 "nbformat_minor": 0
}