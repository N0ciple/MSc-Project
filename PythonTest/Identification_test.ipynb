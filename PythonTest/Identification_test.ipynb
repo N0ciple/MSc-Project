{
 "cells": [
  {
   "cell_type": "code",
   "execution_count": 1617,
   "metadata": {
    "collapsed": true
   },
   "outputs": [],
   "source": [
    "# Imports\n",
    "import random\n",
    "import networkx as nx\n",
    "import matplotlib as plt\n",
    "import scipy as sp\n",
    "import numpy as np\n",
    "%matplotlib inline"
   ]
  },
  {
   "cell_type": "code",
   "execution_count": 1618,
   "metadata": {
    "collapsed": true
   },
   "outputs": [],
   "source": [
    "# Custom functions\n",
    "\n",
    "# Function to ensure that no probability are above 1\n",
    "def regulMax(x):\n",
    "    output = min(x,1)\n",
    "    return output\n",
    "regulMax = np.vectorize(regulMax)\n",
    "\n",
    "# Function to adapt the coefficients of the transition matrix\n",
    "def adaptMatCoeff(myMatrix,myGraph,myPropagProba):\n",
    "    for i in myGraph.nodes():\n",
    "        coef = len(myGraph.neighbors(i))\n",
    "        myMatrix[i,:]= myMatrix[i,:]/coef\n",
    "    I = np.identity(A.shape[0])*(1-myPropagProba)\n",
    "    myMatrix = I + myMatrix\n",
    "    return myMatrix\n",
    "\n",
    "def correctState(prevState,curState):\n",
    "    for i in range(np.size(prevState)):\n",
    "        if(prevState[0,i] == 1):\n",
    "            curState[0,i] =1\n",
    "        if curState[0,i] >= 1:\n",
    "            curState[0,i] = 1\n",
    "    return curState"
   ]
  },
  {
   "cell_type": "code",
   "execution_count": 1619,
   "metadata": {
    "collapsed": true
   },
   "outputs": [],
   "source": [
    "# Infection parameters\n",
    "propag_proba = 0.2"
   ]
  },
  {
   "cell_type": "code",
   "execution_count": 1620,
   "metadata": {},
   "outputs": [
    {
     "data": {
      "image/png": "[encoded data removed]",
      "text/plain": [
       "<matplotlib.figure.Figure at 0x10e3402b0>"
      ]
     },
     "metadata": {},
     "output_type": "display_data"
    }
   ],
   "source": [
    "# Generate a small graph\n",
    "num_nodes = 10\n",
    "num_connect = 3\n",
    "rewire_prob = 0.5\n",
    "\n",
    "Graph = nx.newman_watts_strogatz_graph(num_nodes,num_connect,rewire_prob)\n",
    "nx.draw_networkx(Graph)"
   ]
  },
  {
   "cell_type": "code",
   "execution_count": 1621,
   "metadata": {},
   "outputs": [
    {
     "name": "stdout",
     "output_type": "stream",
     "text": [
      "Source Node =  8\n",
      "Init state =  [[ 0.  0.  0.  0.  0.  0.  0.  0.  1.  0.]]\n"
     ]
    }
   ],
   "source": [
    "# Propagation Matrix\n",
    "A = nx.adjacency_matrix(Graph)\n",
    "A = A*propag_proba\n",
    "P = adaptMatCoeff(A,Graph,propag_proba)\n",
    "\n",
    "# State Vector\n",
    "states = np.zeros((A.shape[0],1))\n",
    "source = random.choice(Graph.nodes())\n",
    "states[source]=1\n",
    "states = np.transpose(states)\n",
    "print(\"Source Node = \",source)\n",
    "print(\"Init state = \",states)\n",
    "stepi = states"
   ]
  },
  {
   "cell_type": "code",
   "execution_count": 1622,
   "metadata": {
    "scrolled": true
   },
   "outputs": [
    {
     "name": "stdout",
     "output_type": "stream",
     "text": [
      "[[ 0. ]\n",
      " [ 0. ]\n",
      " [ 0. ]\n",
      " [ 0. ]\n",
      " [ 0. ]\n",
      " [ 0. ]\n",
      " [ 0. ]\n",
      " [ 0.1]\n",
      " [ 1. ]\n",
      " [ 0.1]]\n"
     ]
    }
   ],
   "source": [
    "stepi = correctState(stepi,stepi * P)\n",
    "print(np.transpose(stepi))"
   ]
  },
  {
   "cell_type": "code",
   "execution_count": 1623,
   "metadata": {},
   "outputs": [
    {
     "name": "stdout",
     "output_type": "stream",
     "text": [
      "[[ 0.17142857]\n",
      " [ 0.12857143]\n",
      " [ 0.12857143]\n",
      " [ 0.17142857]\n",
      " [ 0.08571429]\n",
      " [ 0.12857143]\n",
      " [ 0.12857143]\n",
      " [ 0.08571429]\n",
      " [ 0.08571429]\n",
      " [ 0.08571429]]\n"
     ]
    }
   ],
   "source": [
    "for i in range(10000):\n",
    "    stepi = stepi*P\n",
    "print(np.transpose(stepi))"
   ]
  },
  {
   "cell_type": "code",
   "execution_count": null,
   "metadata": {
    "collapsed": true
   },
   "outputs": [],
   "source": []
  }
 ],
 "metadata": {
  "kernelspec": {
   "display_name": "Python 3",
   "language": "python",
   "name": "python3"
  },
  "language_info": {
   "codemirror_mode": {
    "name": "ipython",
    "version": 3
   },
   "file_extension": ".py",
   "mimetype": "text/x-python",
   "name": "python",
   "nbconvert_exporter": "python",
   "pygments_lexer": "ipython3",
   "version": "3.6.1"
  }
 },
 "nbformat": 4,
 "nbformat_minor": 2
}
